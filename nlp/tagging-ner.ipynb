{
 "cells": [
  {
   "cell_type": "code",
   "execution_count": 1,
   "id": "apparent-parliament",
   "metadata": {},
   "outputs": [],
   "source": [
    "from transformers import AutoTokenizer, AutoModelForTokenClassification\n",
    "from transformers import pipeline"
   ]
  },
  {
   "cell_type": "code",
   "execution_count": 4,
   "id": "north-workstation",
   "metadata": {},
   "outputs": [
    {
     "name": "stderr",
     "output_type": "stream",
     "text": [
      "Downloading: 100%|██████████| 829/829 [00:00<00:00, 266kB/s]\n",
      "Downloading: 100%|██████████| 213k/213k [00:00<00:00, 782kB/s] \n",
      "Downloading: 100%|██████████| 2.00/2.00 [00:00<00:00, 1.23kB/s]\n",
      "Downloading: 100%|██████████| 112/112 [00:00<00:00, 42.3kB/s]\n",
      "Downloading: 100%|██████████| 59.0/59.0 [00:00<00:00, 23.8kB/s]\n",
      "Downloading: 100%|██████████| 433M/433M [04:44<00:00, 1.53MB/s] \n"
     ]
    },
    {
     "name": "stdout",
     "output_type": "stream",
     "text": [
      "Chandra B-PER\n",
      "Earth B-LOC\n"
     ]
    }
   ],
   "source": [
    "model_name = 'dslim/bert-base-NER'\n",
    "\n",
    "tokenizer = AutoTokenizer.from_pretrained(model_name)\n",
    "model = AutoModelForTokenClassification.from_pretrained(model_name)\n",
    "\n",
    "nlp = pipeline(\"ner\", model=model, tokenizer=tokenizer)\n",
    "example = \"My name is Chandra and I live on Earth\"\n",
    "\n",
    "ner_results = nlp(example)\n",
    "for result in ner_results:\n",
    "    print(result['word'], result['entity'])"
   ]
  },
  {
   "cell_type": "code",
   "execution_count": null,
   "id": "important-recycling",
   "metadata": {},
   "outputs": [],
   "source": []
  }
 ],
 "metadata": {
  "kernelspec": {
   "display_name": "Python 3.7.9 64-bit ('nlu': conda)",
   "language": "python",
   "name": "python37964bitnluconda69b508d6e8ef4c30a74bf012806384a9"
  },
  "language_info": {
   "codemirror_mode": {
    "name": "ipython",
    "version": 3
   },
   "file_extension": ".py",
   "mimetype": "text/x-python",
   "name": "python",
   "nbconvert_exporter": "python",
   "pygments_lexer": "ipython3",
   "version": "3.7.9"
  }
 },
 "nbformat": 4,
 "nbformat_minor": 5
}
