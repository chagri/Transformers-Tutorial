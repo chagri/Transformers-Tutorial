{
 "cells": [
  {
   "cell_type": "code",
   "execution_count": 9,
   "metadata": {},
   "outputs": [],
   "source": [
    "import openai\n",
    "import os\n",
    "import yaml\n",
    "from gpt import Example, GPT\n"
   ]
  },
  {
   "cell_type": "code",
   "execution_count": 10,
   "metadata": {},
   "outputs": [],
   "source": [
    "with open('open_ai_key.yml') as f:\n",
    "    data = yaml.load(f, Loader=yaml.FullLoader)\n",
    "\n",
    "openai.api_key = data['OPENAI_KEY']\n"
   ]
  },
  {
   "cell_type": "code",
   "execution_count": 12,
   "metadata": {},
   "outputs": [],
   "source": [
    "gpt = GPT(engine=\"davinci\",\n",
    "          temperature=0.5,\n",
    "          max_tokens=100)"
   ]
  },
  {
   "cell_type": "code",
   "execution_count": null,
   "metadata": {},
   "outputs": [],
   "source": [
    "gpt.add_example(Example('typedf '"
   ]
  },
  {
   "cell_type": "code",
   "execution_count": null,
   "metadata": {},
   "outputs": [],
   "source": [
    "Get me the number of online customers that made repeat purchases in 2019.\n",
    "Give me 2019's monthly online sales for each repeat customer\n",
    "\n",
    "Find me the average time between ecommerce purchases for returning buyers in 2019.\n",
    "Get me the gender that spent more money through ecommerce in 2019.\n",
    "Tell me the ecommerce payment method that was used most in 2019.\n",
    "Find me the most commonly used ecommerce payment method by customer socioeconomic status for sales made in 2019.\n",
    "I need to know which 10 products were"
   ]
  },
  {
   "cell_type": "code",
   "execution_count": 13,
   "metadata": {},
   "outputs": [],
   "source": [
    "gpt.add_example(Example('Get me the number of online customers that made repeat purchases in 2019.', \n",
    "                        \"Give me 2019's monthly online sales for each repeat customer\"))\n",
    "\n",
    "gpt.add_example(Example('Find me the average time between ecommerce purchases for returning buyers in 2019.', \n",
    "                        \"For returning customers, tell me the average time between their online transactions in 2019.\"))\n",
    "\n",
    "gpt.add_example(Example('Get me the gender that spent more money through ecommerce in 2019.', \n",
    "                        \"I need to know whether in 2019, men or women spent the most on ecommerce.\"))\n"
   ]
  },
  {
   "cell_type": "code",
   "execution_count": 7,
   "metadata": {},
   "outputs": [
    {
     "name": "stdout",
     "output_type": "stream",
     "text": [
      "output: For every product category, tell me which season had the lowest sales in 2019.\n",
      "\n"
     ]
    }
   ],
   "source": [
    "prompt = \"For every product category, which season had the lowest ecommerce sales in 2019?\"\n",
    "print(gpt.get_top_reply(prompt))"
   ]
  },
  {
   "cell_type": "code",
   "execution_count": 8,
   "metadata": {},
   "outputs": [
    {
     "name": "stdout",
     "output_type": "stream",
     "text": [
      "output: Tell me which season had the lowest sales in 2019.\n",
      "\n"
     ]
    }
   ],
   "source": [
    "prompt = \"For every product category, which season had the lowest ecommerce sales in 2019?\"\n",
    "print(gpt.get_top_reply(prompt))"
   ]
  },
  {
   "cell_type": "code",
   "execution_count": null,
   "metadata": {},
   "outputs": [],
   "source": []
  }
 ],
 "metadata": {
  "kernelspec": {
   "display_name": "Python 3.7.9 64-bit ('nlu': conda)",
   "language": "python",
   "name": "python37964bitnluconda69b508d6e8ef4c30a74bf012806384a9"
  },
  "language_info": {
   "codemirror_mode": {
    "name": "ipython",
    "version": 3
   },
   "file_extension": ".py",
   "mimetype": "text/x-python",
   "name": "python",
   "nbconvert_exporter": "python",
   "pygments_lexer": "ipython3",
   "version": "3.7.9-final"
  }
 },
 "nbformat": 4,
 "nbformat_minor": 2
}