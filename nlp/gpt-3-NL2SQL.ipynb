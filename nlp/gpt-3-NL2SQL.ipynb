{
 "cells": [
  {
   "cell_type": "code",
   "execution_count": 3,
   "metadata": {
    "colab": {},
    "colab_type": "code",
    "executionInfo": {
     "elapsed": 951,
     "status": "ok",
     "timestamp": 1595471299970,
     "user": {
      "displayName": "Bhavesh Bhatt",
      "photoUrl": "https://lh3.googleusercontent.com/a-/AOh14Ggn1iyaPhugkkpQYFRw42nt9ToNB-Rit7YeWtI4Zw=s64",
      "userId": "01561702845917398436"
     },
     "user_tz": -330
    },
    "id": "JIObOT-ybumY"
   },
   "outputs": [],
   "source": [
    "import json\n",
    "import openai\n",
    "import yaml\n",
    "from gpt import Example, GPT\n"
   ]
  },
  {
   "cell_type": "code",
   "execution_count": 2,
   "metadata": {
    "colab": {},
    "colab_type": "code",
    "executionInfo": {
     "elapsed": 703,
     "status": "ok",
     "timestamp": 1595471324175,
     "user": {
      "displayName": "Bhavesh Bhatt",
      "photoUrl": "https://lh3.googleusercontent.com/a-/AOh14Ggn1iyaPhugkkpQYFRw42nt9ToNB-Rit7YeWtI4Zw=s64",
      "userId": "01561702845917398436"
     },
     "user_tz": -330
    },
    "id": "75Yg2gB7p3Q0"
   },
   "outputs": [],
   "source": [
    "with open('open_ai_key.yml') as f:\n",
    "    data = yaml.load(f, Loader=yaml.FullLoader)\n",
    "\n",
    "openai.api_key = data['OPENAI_KEY']"
   ]
  },
  {
   "cell_type": "code",
   "execution_count": 5,
   "metadata": {
    "colab": {},
    "colab_type": "code",
    "executionInfo": {
     "elapsed": 1248,
     "status": "ok",
     "timestamp": 1595471538287,
     "user": {
      "displayName": "Bhavesh Bhatt",
      "photoUrl": "https://lh3.googleusercontent.com/a-/AOh14Ggn1iyaPhugkkpQYFRw42nt9ToNB-Rit7YeWtI4Zw=s64",
      "userId": "01561702845917398436"
     },
     "user_tz": -330
    },
    "id": "XiV0D9PihB2N"
   },
   "outputs": [],
   "source": [
    "gpt = GPT(engine=\"davinci\",\n",
    "          temperature=0.5,\n",
    "          max_tokens=100)"
   ]
  },
  {
   "cell_type": "markdown",
   "metadata": {
    "colab_type": "text",
    "id": "WwVcHYMOvGiU"
   },
   "source": [
    "# Adding Examples for GPT Model"
   ]
  },
  {
   "cell_type": "code",
   "execution_count": 26,
   "metadata": {
    "colab": {},
    "colab_type": "code",
    "executionInfo": {
     "elapsed": 1343,
     "status": "ok",
     "timestamp": 1595471715638,
     "user": {
      "displayName": "Bhavesh Bhatt",
      "photoUrl": "https://lh3.googleusercontent.com/a-/AOh14Ggn1iyaPhugkkpQYFRw42nt9ToNB-Rit7YeWtI4Zw=s64",
      "userId": "01561702845917398436"
     },
     "user_tz": -330
    },
    "id": "0iLR1Y6YqTh7"
   },
   "outputs": [],
   "source": [
    "gpt.add_example(Example('Fetch unique values of DEPARTMENT from Worker table.', \n",
    "                        'Select distinct DEPARTMENT from Worker;'))"
   ]
  },
  {
   "cell_type": "code",
   "execution_count": 27,
   "metadata": {
    "colab": {},
    "colab_type": "code",
    "executionInfo": {
     "elapsed": 1433,
     "status": "ok",
     "timestamp": 1595471721203,
     "user": {
      "displayName": "Bhavesh Bhatt",
      "photoUrl": "https://lh3.googleusercontent.com/a-/AOh14Ggn1iyaPhugkkpQYFRw42nt9ToNB-Rit7YeWtI4Zw=s64",
      "userId": "01561702845917398436"
     },
     "user_tz": -330
    },
    "id": "x28YlU1-qrCW"
   },
   "outputs": [],
   "source": [
    "gpt.add_example(Example('Print the first three characters of FIRST_NAME from Worker table.', \n",
    "                        'Select substring(FIRST_NAME,1,3) from Worker;'))"
   ]
  },
  {
   "cell_type": "code",
   "execution_count": 28,
   "metadata": {
    "colab": {},
    "colab_type": "code",
    "executionInfo": {
     "elapsed": 883,
     "status": "ok",
     "timestamp": 1595471721205,
     "user": {
      "displayName": "Bhavesh Bhatt",
      "photoUrl": "https://lh3.googleusercontent.com/a-/AOh14Ggn1iyaPhugkkpQYFRw42nt9ToNB-Rit7YeWtI4Zw=s64",
      "userId": "01561702845917398436"
     },
     "user_tz": -330
    },
    "id": "1C10LyYPqrFX"
   },
   "outputs": [],
   "source": [
    "gpt.add_example(Example(\"Find the position of the alphabet ('a') in the first name column 'Amitabh' from Worker table.\", \n",
    "                        \"Select INSTR(FIRST_NAME, BINARY'a') from Worker where FIRST_NAME = 'Amitabh';\"))"
   ]
  },
  {
   "cell_type": "code",
   "execution_count": 29,
   "metadata": {
    "colab": {},
    "colab_type": "code",
    "executionInfo": {
     "elapsed": 964,
     "status": "ok",
     "timestamp": 1595471723625,
     "user": {
      "displayName": "Bhavesh Bhatt",
      "photoUrl": "https://lh3.googleusercontent.com/a-/AOh14Ggn1iyaPhugkkpQYFRw42nt9ToNB-Rit7YeWtI4Zw=s64",
      "userId": "01561702845917398436"
     },
     "user_tz": -330
    },
    "id": "0JvjODWbsBWP"
   },
   "outputs": [],
   "source": [
    "gpt.add_example(Example(\"Print the FIRST_NAME from Worker table after replacing 'a' with 'A'.\", \n",
    "                        \"Select CONCAT(FIRST_NAME, ' ', LAST_NAME) AS 'COMPLETE_NAME' from Worker;\"))"
   ]
  },
  {
   "cell_type": "code",
   "execution_count": 30,
   "metadata": {
    "colab": {},
    "colab_type": "code",
    "executionInfo": {
     "elapsed": 958,
     "status": "ok",
     "timestamp": 1595471760833,
     "user": {
      "displayName": "Bhavesh Bhatt",
      "photoUrl": "https://lh3.googleusercontent.com/a-/AOh14Ggn1iyaPhugkkpQYFRw42nt9ToNB-Rit7YeWtI4Zw=s64",
      "userId": "01561702845917398436"
     },
     "user_tz": -330
    },
    "id": "uNsH4OeqsKjM"
   },
   "outputs": [],
   "source": [
    "gpt.add_example(Example(\"Display the second highest salary from the Worker table.\", \n",
    "                        \"Select max(Salary) from Worker where Salary not in (Select max(Salary) from Worker);\"))"
   ]
  },
  {
   "cell_type": "code",
   "execution_count": 39,
   "metadata": {
    "colab": {},
    "colab_type": "code",
    "executionInfo": {
     "elapsed": 1075,
     "status": "ok",
     "timestamp": 1595471795232,
     "user": {
      "displayName": "Bhavesh Bhatt",
      "photoUrl": "https://lh3.googleusercontent.com/a-/AOh14Ggn1iyaPhugkkpQYFRw42nt9ToNB-Rit7YeWtI4Zw=s64",
      "userId": "01561702845917398436"
     },
     "user_tz": -330
    },
    "id": "zhXh5g-jsKnl"
   },
   "outputs": [],
   "source": [
    "gpt.add_example(Example(\"Display the highest compensation from the Worker table.\", \n",
    "                        \"Select max(Salary) from Worker;\"))"
   ]
  },
  {
   "cell_type": "code",
   "execution_count": 32,
   "metadata": {
    "colab": {},
    "colab_type": "code",
    "executionInfo": {
     "elapsed": 882,
     "status": "ok",
     "timestamp": 1595471796602,
     "user": {
      "displayName": "Bhavesh Bhatt",
      "photoUrl": "https://lh3.googleusercontent.com/a-/AOh14Ggn1iyaPhugkkpQYFRw42nt9ToNB-Rit7YeWtI4Zw=s64",
      "userId": "01561702845917398436"
     },
     "user_tz": -330
    },
    "id": "wWjmZe-Ntexm"
   },
   "outputs": [],
   "source": [
    "gpt.add_example(Example(\"Fetch the count of employees working in the department Admin.\", \n",
    "                        \"SELECT COUNT(*) FROM worker WHERE DEPARTMENT = 'Admin';\"))"
   ]
  },
  {
   "cell_type": "code",
   "execution_count": 33,
   "metadata": {
    "colab": {},
    "colab_type": "code",
    "executionInfo": {
     "elapsed": 1149,
     "status": "ok",
     "timestamp": 1595471799951,
     "user": {
      "displayName": "Bhavesh Bhatt",
      "photoUrl": "https://lh3.googleusercontent.com/a-/AOh14Ggn1iyaPhugkkpQYFRw42nt9ToNB-Rit7YeWtI4Zw=s64",
      "userId": "01561702845917398436"
     },
     "user_tz": -330
    },
    "id": "Q9xuF--Kt_xh"
   },
   "outputs": [],
   "source": [
    "gpt.add_example(Example(\"Get all details of the Workers whose SALARY lies between 100000 and 500000.\", \n",
    "                        \"Select * from Worker where SALARY between 100000 and 500000;\"))"
   ]
  },
  {
   "cell_type": "code",
   "execution_count": 14,
   "metadata": {
    "colab": {},
    "colab_type": "code",
    "executionInfo": {
     "elapsed": 786,
     "status": "ok",
     "timestamp": 1595471800475,
     "user": {
      "displayName": "Bhavesh Bhatt",
      "photoUrl": "https://lh3.googleusercontent.com/a-/AOh14Ggn1iyaPhugkkpQYFRw42nt9ToNB-Rit7YeWtI4Zw=s64",
      "userId": "01561702845917398436"
     },
     "user_tz": -330
    },
    "id": "z5jRwDCcuauE"
   },
   "outputs": [],
   "source": [
    "gpt.add_example(Example(\"Get Salary details of the Workers\", \n",
    "                        \"Select Salary from Worker\"))"
   ]
  },
  {
   "cell_type": "markdown",
   "metadata": {
    "colab_type": "text",
    "id": "3mI7FmwSu9AA"
   },
   "source": [
    "# Example 1"
   ]
  },
  {
   "cell_type": "code",
   "execution_count": 40,
   "metadata": {
    "colab": {},
    "colab_type": "code",
    "executionInfo": {
     "elapsed": 1211,
     "status": "ok",
     "timestamp": 1595471857682,
     "user": {
      "displayName": "Bhavesh Bhatt",
      "photoUrl": "https://lh3.googleusercontent.com/a-/AOh14Ggn1iyaPhugkkpQYFRw42nt9ToNB-Rit7YeWtI4Zw=s64",
      "userId": "01561702845917398436"
     },
     "user_tz": -330
    },
    "id": "sWSmXABfrdTm"
   },
   "outputs": [],
   "source": [
    "prompt = \"Display the lowest compensation from the Worker table.\"\n",
    "output = gpt.submit_request(prompt)"
   ]
  },
  {
   "cell_type": "code",
   "execution_count": 41,
   "metadata": {
    "colab": {
     "base_uri": "https://localhost:8080/",
     "height": 35
    },
    "colab_type": "code",
    "executionInfo": {
     "elapsed": 1366,
     "status": "ok",
     "timestamp": 1595471926542,
     "user": {
      "displayName": "Bhavesh Bhatt",
      "photoUrl": "https://lh3.googleusercontent.com/a-/AOh14Ggn1iyaPhugkkpQYFRw42nt9ToNB-Rit7YeWtI4Zw=s64",
      "userId": "01561702845917398436"
     },
     "user_tz": -330
    },
    "id": "niqyIPAyoLQb",
    "outputId": "853cd2a0-ec4e-4454-90b8-cb8be70b0d4f"
   },
   "outputs": [
    {
     "data": {
      "text/plain": [
       "'output: Select min(Salary) from Worker;\\n'"
      ]
     },
     "execution_count": 41,
     "metadata": {},
     "output_type": "execute_result"
    }
   ],
   "source": [
    "output.choices[0].text"
   ]
  },
  {
   "cell_type": "markdown",
   "metadata": {
    "colab_type": "text",
    "id": "LA3DyhGJu_8o"
   },
   "source": [
    "# Example 2"
   ]
  },
  {
   "cell_type": "code",
   "execution_count": 18,
   "metadata": {
    "colab": {},
    "colab_type": "code",
    "executionInfo": {
     "elapsed": 1325,
     "status": "ok",
     "timestamp": 1595471994566,
     "user": {
      "displayName": "Bhavesh Bhatt",
      "photoUrl": "https://lh3.googleusercontent.com/a-/AOh14Ggn1iyaPhugkkpQYFRw42nt9ToNB-Rit7YeWtI4Zw=s64",
      "userId": "01561702845917398436"
     },
     "user_tz": -330
    },
    "id": "_OdI6bFLtpel"
   },
   "outputs": [],
   "source": [
    "prompt = \"Tell me the count of employees working in the department HR.\""
   ]
  },
  {
   "cell_type": "code",
   "execution_count": 19,
   "metadata": {
    "colab": {},
    "colab_type": "code",
    "executionInfo": {
     "elapsed": 2828,
     "status": "ok",
     "timestamp": 1595472001159,
     "user": {
      "displayName": "Bhavesh Bhatt",
      "photoUrl": "https://lh3.googleusercontent.com/a-/AOh14Ggn1iyaPhugkkpQYFRw42nt9ToNB-Rit7YeWtI4Zw=s64",
      "userId": "01561702845917398436"
     },
     "user_tz": -330
    },
    "id": "XnjQ0kfbtpkE"
   },
   "outputs": [],
   "source": [
    "output = gpt.submit_request(prompt)"
   ]
  },
  {
   "cell_type": "code",
   "execution_count": 20,
   "metadata": {
    "colab": {
     "base_uri": "https://localhost:8080/",
     "height": 35
    },
    "colab_type": "code",
    "executionInfo": {
     "elapsed": 1008,
     "status": "ok",
     "timestamp": 1595472005315,
     "user": {
      "displayName": "Bhavesh Bhatt",
      "photoUrl": "https://lh3.googleusercontent.com/a-/AOh14Ggn1iyaPhugkkpQYFRw42nt9ToNB-Rit7YeWtI4Zw=s64",
      "userId": "01561702845917398436"
     },
     "user_tz": -330
    },
    "id": "Z9Yo-bZotph4",
    "outputId": "0e1572e6-bceb-42c8-d67f-4f29a156745c"
   },
   "outputs": [
    {
     "data": {
      "text/plain": [
       "\"output: SELECT COUNT(*) FROM worker WHERE DEPARTMENT = 'HR';\\n\""
      ]
     },
     "execution_count": 20,
     "metadata": {},
     "output_type": "execute_result"
    }
   ],
   "source": [
    "output.choices[0].text"
   ]
  },
  {
   "cell_type": "markdown",
   "metadata": {
    "colab_type": "text",
    "id": "dnB7TCA_vCkF"
   },
   "source": [
    "# Example 3"
   ]
  },
  {
   "cell_type": "code",
   "execution_count": 21,
   "metadata": {
    "colab": {},
    "colab_type": "code",
    "executionInfo": {
     "elapsed": 946,
     "status": "ok",
     "timestamp": 1595472072925,
     "user": {
      "displayName": "Bhavesh Bhatt",
      "photoUrl": "https://lh3.googleusercontent.com/a-/AOh14Ggn1iyaPhugkkpQYFRw42nt9ToNB-Rit7YeWtI4Zw=s64",
      "userId": "01561702845917398436"
     },
     "user_tz": -330
    },
    "id": "GkaHZLIzt3pQ"
   },
   "outputs": [],
   "source": [
    "prompt = \"Get salary details of the Workers whose AGE lies between 10 and 35\""
   ]
  },
  {
   "cell_type": "code",
   "execution_count": 22,
   "metadata": {
    "colab": {
     "base_uri": "https://localhost:8080/",
     "height": 51
    },
    "colab_type": "code",
    "executionInfo": {
     "elapsed": 3152,
     "status": "ok",
     "timestamp": 1595472104996,
     "user": {
      "displayName": "Bhavesh Bhatt",
      "photoUrl": "https://lh3.googleusercontent.com/a-/AOh14Ggn1iyaPhugkkpQYFRw42nt9ToNB-Rit7YeWtI4Zw=s64",
      "userId": "01561702845917398436"
     },
     "user_tz": -330
    },
    "id": "G6GmvbukmLCK",
    "outputId": "21c8f471-b272-47ed-dd18-36c94fbf6936"
   },
   "outputs": [
    {
     "name": "stdout",
     "output_type": "stream",
     "text": [
      "output: Select Salary from Worker where AGE between 25 and 35;\n",
      "\n"
     ]
    }
   ],
   "source": [
    "print(gpt.get_top_reply(prompt))"
   ]
  },
  {
   "cell_type": "markdown",
   "metadata": {
    "colab": {},
    "colab_type": "code",
    "id": "0ZaLCw6zgqxh"
   },
   "source": [
    "# Example 4 - Where Clause"
   ]
  },
  {
   "cell_type": "code",
   "execution_count": 44,
   "metadata": {},
   "outputs": [],
   "source": [
    "prompt = \"Display the second highest salary from the Worker table where compensation lies between 100 and 500.\""
   ]
  },
  {
   "cell_type": "code",
   "execution_count": 45,
   "metadata": {},
   "outputs": [
    {
     "name": "stdout",
     "output_type": "stream",
     "text": [
      "output: Select max(Salary) from Worker where Compensation between 100 and 500;\n",
      "\n"
     ]
    }
   ],
   "source": [
    "print(gpt.get_top_reply(prompt))"
   ]
  },
  {
   "cell_type": "code",
   "execution_count": 46,
   "metadata": {},
   "outputs": [
    {
     "name": "stdout",
     "output_type": "stream",
     "text": [
      "output: SELECT DEPARTMENT, COUNT(*) FROM Worker GROUP BY DEPARTMENT;\n",
      "\n"
     ]
    }
   ],
   "source": [
    "prompt = \"display how many workers in each department\"\n",
    "print(gpt.get_top_reply(prompt))"
   ]
  },
  {
   "cell_type": "code",
   "execution_count": 47,
   "metadata": {},
   "outputs": [
    {
     "name": "stdout",
     "output_type": "stream",
     "text": [
      "output: Select * from Worker where DEPARTMENT in (Select DEPARTMENT from Worker GROUP BY DEPARTMENT);\n",
      "\n"
     ]
    }
   ],
   "source": [
    "prompt = \"select top 3 workers in each department\"\n",
    "print(gpt.get_top_reply(prompt))"
   ]
  },
  {
   "cell_type": "code",
   "execution_count": 49,
   "metadata": {},
   "outputs": [
    {
     "name": "stdout",
     "output_type": "stream",
     "text": [
      "output: Select Salary from Worker where DEPARTMENT in (Select DEPARTMENT from Worker where Salary > 10000);\n",
      "\n"
     ]
    }
   ],
   "source": [
    "prompt = \"select second highest salary worker from each department\"\n",
    "print(gpt.get_top_reply(prompt))"
   ]
  },
  {
   "cell_type": "code",
   "execution_count": null,
   "metadata": {},
   "outputs": [],
   "source": [
    "prompt = \"select second highest salary worker from each department\"\n",
    "print(gpt.get_top_reply(prompt))"
   ]
  }
 ],
 "metadata": {
  "colab": {
   "authorship_tag": "ABX9TyNfqR7vWsi34k6mv0Yi02Yy",
   "collapsed_sections": [],
   "name": "GPT-3-Demo.ipynb",
   "provenance": []
  },
  "kernelspec": {
   "display_name": "Python 3.7.9 64-bit ('nlu': conda)",
   "language": "python",
   "name": "python37964bitnluconda69b508d6e8ef4c30a74bf012806384a9"
  },
  "language_info": {
   "codemirror_mode": {
    "name": "ipython",
    "version": 3
   },
   "file_extension": ".py",
   "mimetype": "text/x-python",
   "name": "python",
   "nbconvert_exporter": "python",
   "pygments_lexer": "ipython3",
   "version": "3.7.9-final"
  }
 },
 "nbformat": 4,
 "nbformat_minor": 1
}