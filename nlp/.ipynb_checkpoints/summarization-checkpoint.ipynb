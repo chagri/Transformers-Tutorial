{
 "cells": [
  {
   "cell_type": "code",
   "execution_count": 7,
   "id": "regional-society",
   "metadata": {},
   "outputs": [],
   "source": [
    "from transformers import pipeline\n",
    "\n",
    "from transformers import PegasusForConditionalGeneration, PegasusTokenizer\n",
    "import torch"
   ]
  },
  {
   "cell_type": "code",
   "execution_count": 22,
   "id": "metropolitan-february",
   "metadata": {},
   "outputs": [],
   "source": [
    "class PegasusDemo():\n",
    "    def __init__(self, model_name):\n",
    "        self.torch_device = 'cuda' if torch.cuda.is_available() else 'cpu'\n",
    "        self.tokenizer = PegasusTokenizer.from_pretrained(model_name)\n",
    "        self.model = PegasusForConditionalGeneration.from_pretrained(model_name).to(self.torch_device)\n",
    "        \n",
    "    def make_summary(self, body):\n",
    "        batch = self.tokenizer.prepare_seq2seq_batch([body], truncation=True, padding='longest').to(self.torch_device)\n",
    "        translated = self.model.generate(**batch)\n",
    "        tgt_text = self.tokenizer.batch_decode(translated, skip_special_tokens=True)\n",
    "        return tgt_text[0]\n",
    "    \n",
    "\n",
    "class SummarizerT5BART:\n",
    "    \"\"\"\n",
    "    BART or T5 text summarizer\n",
    "    :param model: select the model that you want to use as model in summarization pipeline (default is t5-small)\n",
    "    :param max_length: The maximum length to accept as a sentence. (default to 20)\n",
    "    :param min_length: The minimum length to accept as a sentence. (default to 5)\n",
    "    Supported models:\n",
    "    facebook/bart-large-cnn\n",
    "    t5-11b\n",
    "    t5-3b\n",
    "    t5-base\n",
    "    t5-large\n",
    "    t5-small\n",
    "    Warning: for T5 you can chose the size of the model. Everything above t5-base is very slow, even on GPU or TPU\n",
    "    \"\"\"\n",
    "\n",
    "    def __init__(self, model='t5-small', min_length=5, max_length=40):\n",
    "        self.model = model\n",
    "        self.min_length = min_length\n",
    "        self.max_length = max_length\n",
    "    \n",
    "    def load_model(self):\n",
    "        self.summarizer = pipeline(task='summarization', model=self.model)\n",
    "\n",
    "    def summary(self, text=''):\n",
    "        \"\"\"\n",
    "        This returns the summary of the text using BERT Transformer\n",
    "        :param text: Text to be summarized\n",
    "        :return: Summarized Text\n",
    "        \"\"\"\n",
    "        return self.summarizer(text, max_length=self.max_length, min_length=self.min_length)[0]['summary_text']"
   ]
  },
  {
   "cell_type": "code",
   "execution_count": 26,
   "id": "cultural-point",
   "metadata": {},
   "outputs": [],
   "source": [
    "ARTICLE = \"\"\"WASHINGTON  —   Congressional Republicans have a new fear when it comes to their health care lawsuit against the Obama administration: They might win. The incoming Trump administration could choose to no longer defend the executive branch against the suit, which challenges the administration’s authority to spend billions of dollars on health insurance subsidies for   and   Americans, handing House Republicans a big victory on    issues. But a sudden loss of the disputed subsidies could conceivably cause the health care program to implode, leaving millions of people without access to health insurance before Republicans have prepared a replacement. That could lead to chaos in the insurance market and spur a political backlash just as Republicans gain full control of the government. To stave off that outcome, Republicans could find themselves in the awkward position of appropriating huge sums to temporarily prop up the Obama health care law, angering conservative voters who have been demanding an end to the law for years. In another twist, Donald J. Trump’s administration, worried about preserving executive branch prerogatives, could choose to fight its Republican allies in the House on some central questions in the dispute. Eager to avoid an ugly political pileup, Republicans on Capitol Hill and the Trump transition team are gaming out how to handle the lawsuit, which, after the election, has been put in limbo until at least late February by the United States Court of Appeals for the District of Columbia Circuit. They are not yet ready to divulge their strategy. “Given that this pending litigation involves the Obama administration and Congress, it would be inappropriate to comment,” said Phillip J. Blando, a spokesman for the Trump transition effort. “Upon taking office, the Trump administration will evaluate this case and all related aspects of the Affordable Care Act. ” In a potentially   decision in 2015, Judge Rosemary M. Collyer ruled that House Republicans had the standing to sue the executive branch over a spending dispute and that the Obama administration had been distributing the health insurance subsidies, in violation of the Constitution, without approval from Congress. The Justice Department, confident that Judge Collyer’s decision would be reversed, quickly appealed, and the subsidies have remained in place during the appeal. In successfully seeking a temporary halt in the proceedings after Mr. Trump won, House Republicans last month told the court that they “and the  ’s transition team currently are discussing potential options for resolution of this matter, to take effect after the  ’s inauguration on Jan. 20, 2017. ” The suspension of the case, House lawyers said, will “provide the   and his future administration time to consider whether to continue prosecuting or to otherwise resolve this appeal. ” Republican leadership officials in the House acknowledge the possibility of “cascading effects” if the   payments, which have totaled an estimated $13 billion, are suddenly stopped. Insurers that receive the subsidies in exchange for paying    costs such as deductibles and   for eligible consumers could race to drop coverage since they would be losing money. Over all, the loss of the subsidies could destabilize the entire program and cause a lack of confidence that leads other insurers to seek a quick exit as well. Anticipating that the Trump administration might not be inclined to mount a vigorous fight against the House Republicans given the  ’s dim view of the health care law, a team of lawyers this month sought to intervene in the case on behalf of two participants in the health care program. In their request, the lawyers predicted that a deal between House Republicans and the new administration to dismiss or settle the case “will produce devastating consequences for the individuals who receive these reductions, as well as for the nation’s health insurance and health care systems generally. ” No matter what happens, House Republicans say, they want to prevail on two overarching concepts: the congressional power of the purse, and the right of Congress to sue the executive branch if it violates the Constitution regarding that spending power. House Republicans contend that Congress never appropriated the money for the subsidies, as required by the Constitution. In the suit, which was initially championed by John A. Boehner, the House speaker at the time, and later in House committee reports, Republicans asserted that the administration, desperate for the funding, had required the Treasury Department to provide it despite widespread internal skepticism that the spending was proper. The White House said that the spending was a permanent part of the law passed in 2010, and that no annual appropriation was required  —   even though the administration initially sought one. Just as important to House Republicans, Judge Collyer found that Congress had the standing to sue the White House on this issue  —   a ruling that many legal experts said was flawed  —   and they want that precedent to be set to restore congressional leverage over the executive branch. But on spending power and standing, the Trump administration may come under pressure from advocates of presidential authority to fight the House no matter their shared views on health care, since those precedents could have broad repercussions. It is a complicated set of dynamics illustrating how a quick legal victory for the House in the Trump era might come with costs that Republicans never anticipated when they took on the Obama White House.\"\"\""
   ]
  },
  {
   "cell_type": "code",
   "execution_count": 24,
   "id": "temporal-dairy",
   "metadata": {},
   "outputs": [
    {
     "name": "stderr",
     "output_type": "stream",
     "text": [
      "Some weights of T5Model were not initialized from the model checkpoint at t5-small and are newly initialized: ['encoder.embed_tokens.weight', 'decoder.embed_tokens.weight']\n",
      "You should probably TRAIN this model on a down-stream task to be able to use it for predictions and inference.\n"
     ]
    }
   ],
   "source": [
    "summarizer = SummarizerT5BART()\n",
    "summarizer.load_model()"
   ]
  },
  {
   "cell_type": "code",
   "execution_count": 25,
   "id": "liked-rebate",
   "metadata": {},
   "outputs": [
    {
     "name": "stderr",
     "output_type": "stream",
     "text": [
      "Token indices sequence length is longer than the specified maximum sequence length for this model (1108 > 512). Running this sequence through the model will result in indexing errors\n"
     ]
    },
    {
     "name": "stdout",
     "output_type": "stream",
     "text": [
      "a sudden loss of the disputed subsidies could conceivably cause the health care program to implode . that could lead to chaos in the insurance market and spur a political back\n"
     ]
    }
   ],
   "source": [
    "print(summarizer.summary(ARTICLE))"
   ]
  },
  {
   "cell_type": "code",
   "execution_count": null,
   "id": "silver-extension",
   "metadata": {},
   "outputs": [],
   "source": []
  }
 ],
 "metadata": {
  "kernelspec": {
   "display_name": "Python 3.7.9 64-bit ('nlu': conda)",
   "language": "python",
   "name": "python37964bitnluconda69b508d6e8ef4c30a74bf012806384a9"
  },
  "language_info": {
   "codemirror_mode": {
    "name": "ipython",
    "version": 3
   },
   "file_extension": ".py",
   "mimetype": "text/x-python",
   "name": "python",
   "nbconvert_exporter": "python",
   "pygments_lexer": "ipython3",
   "version": "3.7.9"
  }
 },
 "nbformat": 4,
 "nbformat_minor": 5
}
